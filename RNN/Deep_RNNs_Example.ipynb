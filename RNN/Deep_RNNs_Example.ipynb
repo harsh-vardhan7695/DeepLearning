{
  "nbformat": 4,
  "nbformat_minor": 0,
  "metadata": {
    "colab": {
      "provenance": [],
      "gpuType": "T4"
    },
    "kernelspec": {
      "name": "python3",
      "display_name": "Python 3"
    },
    "language_info": {
      "name": "python"
    },
    "accelerator": "GPU"
  },
  "cells": [
    {
      "cell_type": "code",
      "execution_count": null,
      "metadata": {
        "id": "OL6CZG9OzsuJ"
      },
      "outputs": [],
      "source": [
        "import tensorflow as tf\n",
        "from tensorflow.keras.datasets import imdb\n",
        "from keras.preprocessing.sequence import pad_sequences\n",
        "from keras.models import Sequential\n",
        "from keras.layers import Embedding,SimpleRNN,Dense"
      ]
    },
    {
      "cell_type": "code",
      "source": [
        "#loading the IMDB dataset\n",
        "(X_train,y_train), (X_test,y_test)= imdb.load_data(num_words=10000)\n",
        "\n",
        "#pad sequences to have same length\n",
        "X_train= pad_sequences(X_train,maxlen=100)\n",
        "X_test= pad_sequences(X_test,maxlen=100)"
      ],
      "metadata": {
        "id": "mAMdPp9V0luS"
      },
      "execution_count": null,
      "outputs": []
    },
    {
      "cell_type": "code",
      "source": [],
      "metadata": {
        "id": "0dpHde4K33se"
      },
      "execution_count": null,
      "outputs": []
    },
    {
      "cell_type": "code",
      "source": [],
      "metadata": {
        "id": "Xbc9C9mL4MrD"
      },
      "execution_count": null,
      "outputs": []
    },
    {
      "cell_type": "code",
      "source": [
        "#model building\n",
        "model= Sequential()\n",
        "\n",
        "model.add(Embedding(10000,32,input_length=100)) #embeddig layer to convert words to vector,input-10000,output--every words will be represented as 32dim vector\n",
        "model.add(SimpleRNN(5,return_sequences=True)) #RNN layer with 5 units,#return_sequence -true,that will feed the output of firist layer to 2nd layer\n",
        "model.add(SimpleRNN(5)) #another RNN layer\n",
        "model.add(Dense(1,activation='sigmoid')) #output layer with sigmoid for binary classfication\n",
        "\n",
        "model.summary()"
      ],
      "metadata": {
        "colab": {
          "base_uri": "https://localhost:8080/"
        },
        "id": "3aIlKH863vSC",
        "outputId": "00be15b8-c42c-4ee4-b437-0ec2a9b15754"
      },
      "execution_count": null,
      "outputs": [
        {
          "output_type": "stream",
          "name": "stdout",
          "text": [
            "Model: \"sequential_3\"\n",
            "_________________________________________________________________\n",
            " Layer (type)                Output Shape              Param #   \n",
            "=================================================================\n",
            " embedding_3 (Embedding)     (None, 100, 32)           320000    \n",
            "                                                                 \n",
            " simple_rnn_6 (SimpleRNN)    (None, 100, 5)            190       \n",
            "                                                                 \n",
            " simple_rnn_7 (SimpleRNN)    (None, 5)                 55        \n",
            "                                                                 \n",
            " dense_3 (Dense)             (None, 1)                 6         \n",
            "                                                                 \n",
            "=================================================================\n",
            "Total params: 320251 (1.22 MB)\n",
            "Trainable params: 320251 (1.22 MB)\n",
            "Non-trainable params: 0 (0.00 Byte)\n",
            "_________________________________________________________________\n"
          ]
        }
      ]
    },
    {
      "cell_type": "code",
      "source": [
        "model.compile(optimizer='adam',loss='binary_crossentropy',metrics=['accuracy'])"
      ],
      "metadata": {
        "id": "HSugfhlD55fF"
      },
      "execution_count": null,
      "outputs": []
    },
    {
      "cell_type": "code",
      "source": [
        "#train the model\n",
        "history=model.fit(X_train,y_train,epochs=5,batch_size=32,validation_split=0.2)"
      ],
      "metadata": {
        "colab": {
          "base_uri": "https://localhost:8080/"
        },
        "id": "N8-bmNqN7Jbp",
        "outputId": "977c9361-bbfe-43f1-a13b-a4f574a3a8fe"
      },
      "execution_count": null,
      "outputs": [
        {
          "output_type": "stream",
          "name": "stdout",
          "text": [
            "Epoch 1/5\n",
            "625/625 [==============================] - 138s 214ms/step - loss: 0.5194 - accuracy: 0.7495 - val_loss: 0.4389 - val_accuracy: 0.8090\n",
            "Epoch 2/5\n",
            "625/625 [==============================] - 107s 171ms/step - loss: 0.3250 - accuracy: 0.8724 - val_loss: 0.4196 - val_accuracy: 0.8302\n",
            "Epoch 3/5\n",
            "625/625 [==============================] - 106s 170ms/step - loss: 0.2223 - accuracy: 0.9204 - val_loss: 0.4851 - val_accuracy: 0.8074\n",
            "Epoch 4/5\n",
            "625/625 [==============================] - 102s 164ms/step - loss: 0.1574 - accuracy: 0.9487 - val_loss: 0.5410 - val_accuracy: 0.7984\n",
            "Epoch 5/5\n",
            "625/625 [==============================] - 102s 164ms/step - loss: 0.1337 - accuracy: 0.9564 - val_loss: 0.5962 - val_accuracy: 0.7846\n"
          ]
        }
      ]
    },
    {
      "cell_type": "code",
      "source": [],
      "metadata": {
        "id": "RPiyXumV7WNi"
      },
      "execution_count": null,
      "outputs": []
    }
  ]
}