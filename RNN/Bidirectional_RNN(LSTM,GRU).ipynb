{
  "nbformat": 4,
  "nbformat_minor": 0,
  "metadata": {
    "colab": {
      "provenance": [],
      "gpuType": "T4"
    },
    "kernelspec": {
      "name": "python3",
      "display_name": "Python 3"
    },
    "language_info": {
      "name": "python"
    },
    "accelerator": "GPU"
  },
  "cells": [
    {
      "cell_type": "code",
      "execution_count": 1,
      "metadata": {
        "id": "1DmZi2kTK7oL"
      },
      "outputs": [],
      "source": [
        "import tensorflow as tf\n",
        "from keras.datasets import imdb"
      ]
    },
    {
      "cell_type": "code",
      "source": [
        "from keras.preprocessing.sequence import pad_sequences\n",
        "from keras.models import Sequential\n",
        "from keras.layers import Dense,Embedding,Bidirectional,LSTM,SimpleRNN,GRU"
      ],
      "metadata": {
        "id": "fY_-boqlLMh0"
      },
      "execution_count": 2,
      "outputs": []
    },
    {
      "cell_type": "code",
      "source": [
        "num_words=10000 #number of words to keep\n",
        "(X_train,y_train),(X_test,y_test) = imdb.load_data(num_words= num_words)\n"
      ],
      "metadata": {
        "colab": {
          "base_uri": "https://localhost:8080/"
        },
        "id": "YceI-ga6LjM-",
        "outputId": "cdec468f-c874-4b4e-d4eb-faea458af60c"
      },
      "execution_count": 3,
      "outputs": [
        {
          "output_type": "stream",
          "name": "stdout",
          "text": [
            "Downloading data from https://storage.googleapis.com/tensorflow/tf-keras-datasets/imdb.npz\n",
            "17464789/17464789 [==============================] - 0s 0us/step\n"
          ]
        }
      ]
    },
    {
      "cell_type": "code",
      "source": [
        "maxlen=100 #max sequence length\n",
        "X_train=pad_sequences(X_train,maxlen=maxlen, padding= 'post', truncating= 'post')\n",
        "X_test=pad_sequences(X_test,maxlen=maxlen, padding= 'post', truncating= 'post')\n",
        "\n",
        "#build the bidirectional RNN model\n",
        "embedding_dim= 32 # dimension of embedding layer\n"
      ],
      "metadata": {
        "id": "G7qGAjigL5I0"
      },
      "execution_count": 4,
      "outputs": []
    },
    {
      "cell_type": "code",
      "source": [
        "model= Sequential()\n",
        "model.add(Embedding(input_dim= num_words, output_dim = embedding_dim, input_length= maxlen))\n",
        "model.add(SimpleRNN(5))\n",
        "model.add(Dense(1,activation = 'sigmoid')) #binary classfication"
      ],
      "metadata": {
        "id": "kQSLkhgrMmM8"
      },
      "execution_count": 5,
      "outputs": []
    },
    {
      "cell_type": "code",
      "source": [
        "model.compile(optimizer='adam', loss= 'binary_crossentropy',metrics=['accuracy'])\n",
        "\n",
        "model.summary()"
      ],
      "metadata": {
        "colab": {
          "base_uri": "https://localhost:8080/"
        },
        "id": "egdoIjurNH2L",
        "outputId": "27c2ac7e-fe3a-4348-ac3e-facba555af8f"
      },
      "execution_count": 6,
      "outputs": [
        {
          "output_type": "stream",
          "name": "stdout",
          "text": [
            "Model: \"sequential\"\n",
            "_________________________________________________________________\n",
            " Layer (type)                Output Shape              Param #   \n",
            "=================================================================\n",
            " embedding (Embedding)       (None, 100, 32)           320000    \n",
            "                                                                 \n",
            " simple_rnn (SimpleRNN)      (None, 5)                 190       \n",
            "                                                                 \n",
            " dense (Dense)               (None, 1)                 6         \n",
            "                                                                 \n",
            "=================================================================\n",
            "Total params: 320196 (1.22 MB)\n",
            "Trainable params: 320196 (1.22 MB)\n",
            "Non-trainable params: 0 (0.00 Byte)\n",
            "_________________________________________________________________\n"
          ]
        }
      ]
    },
    {
      "cell_type": "code",
      "source": [
        "# creating Bidirectional RNN\n",
        "model= Sequential()\n",
        "model.add(Embedding(input_dim= num_words, output_dim = embedding_dim, input_length= maxlen))\n",
        "model.add(Bidirectional(SimpleRNN(5)))\n",
        "model.add(Dense(1,activation = 'sigmoid')) #binary classfication\n",
        "\n",
        "model.compile(optimizer='adam', loss= 'binary_crossentropy',metrics=['accuracy'])\n",
        "\n",
        "model.summary()\n",
        "\n",
        "#the no of paramters for Bidirectional RNN has been double as compare to simple RNN since there are 2 RNN"
      ],
      "metadata": {
        "colab": {
          "base_uri": "https://localhost:8080/"
        },
        "id": "B_ux2wjFNXTs",
        "outputId": "688d586a-4084-4e01-aace-0b5efe16d367"
      },
      "execution_count": 9,
      "outputs": [
        {
          "output_type": "stream",
          "name": "stdout",
          "text": [
            "Model: \"sequential_3\"\n",
            "_________________________________________________________________\n",
            " Layer (type)                Output Shape              Param #   \n",
            "=================================================================\n",
            " embedding_3 (Embedding)     (None, 100, 32)           320000    \n",
            "                                                                 \n",
            " bidirectional_1 (Bidirecti  (None, 10)                380       \n",
            " onal)                                                           \n",
            "                                                                 \n",
            " dense_3 (Dense)             (None, 1)                 11        \n",
            "                                                                 \n",
            "=================================================================\n",
            "Total params: 320391 (1.22 MB)\n",
            "Trainable params: 320391 (1.22 MB)\n",
            "Non-trainable params: 0 (0.00 Byte)\n",
            "_________________________________________________________________\n"
          ]
        }
      ]
    },
    {
      "cell_type": "code",
      "source": [
        "# creating BiLSTM RNN\n",
        "model= Sequential()\n",
        "model.add(Embedding(input_dim= num_words, output_dim = embedding_dim, input_length= maxlen))\n",
        "model.add(Bidirectional(LSTM(5)))\n",
        "model.add(Dense(1,activation = 'sigmoid')) #binary classfication\n",
        "\n",
        "model.compile(optimizer='adam', loss= 'binary_crossentropy',metrics=['accuracy'])\n",
        "\n",
        "model.summary()"
      ],
      "metadata": {
        "colab": {
          "base_uri": "https://localhost:8080/"
        },
        "id": "FY-cHva9NtU8",
        "outputId": "05377a70-0ddb-4d6b-e9dc-b49a9f2ad4cd"
      },
      "execution_count": 11,
      "outputs": [
        {
          "output_type": "stream",
          "name": "stdout",
          "text": [
            "Model: \"sequential_5\"\n",
            "_________________________________________________________________\n",
            " Layer (type)                Output Shape              Param #   \n",
            "=================================================================\n",
            " embedding_5 (Embedding)     (None, 100, 32)           320000    \n",
            "                                                                 \n",
            " bidirectional_3 (Bidirecti  (None, 10)                1520      \n",
            " onal)                                                           \n",
            "                                                                 \n",
            " dense_5 (Dense)             (None, 1)                 11        \n",
            "                                                                 \n",
            "=================================================================\n",
            "Total params: 321531 (1.23 MB)\n",
            "Trainable params: 321531 (1.23 MB)\n",
            "Non-trainable params: 0 (0.00 Byte)\n",
            "_________________________________________________________________\n"
          ]
        }
      ]
    },
    {
      "cell_type": "code",
      "source": [
        "# creating BiGRU RNN\n",
        "model= Sequential()\n",
        "model.add(Embedding(input_dim= num_words, output_dim = embedding_dim, input_length= maxlen))\n",
        "model.add(Bidirectional(GRU(5)))\n",
        "model.add(Dense(1,activation = 'sigmoid')) #binary classfication\n",
        "\n",
        "model.compile(optimizer='adam', loss= 'binary_crossentropy',metrics=['accuracy'])\n",
        "\n",
        "model.summary()"
      ],
      "metadata": {
        "colab": {
          "base_uri": "https://localhost:8080/"
        },
        "id": "kCmFGxVQRWza",
        "outputId": "b6c2ba0c-8070-4b18-c69a-45719c740a08"
      },
      "execution_count": 12,
      "outputs": [
        {
          "output_type": "stream",
          "name": "stdout",
          "text": [
            "Model: \"sequential_6\"\n",
            "_________________________________________________________________\n",
            " Layer (type)                Output Shape              Param #   \n",
            "=================================================================\n",
            " embedding_6 (Embedding)     (None, 100, 32)           320000    \n",
            "                                                                 \n",
            " bidirectional_4 (Bidirecti  (None, 10)                1170      \n",
            " onal)                                                           \n",
            "                                                                 \n",
            " dense_6 (Dense)             (None, 1)                 11        \n",
            "                                                                 \n",
            "=================================================================\n",
            "Total params: 321181 (1.23 MB)\n",
            "Trainable params: 321181 (1.23 MB)\n",
            "Non-trainable params: 0 (0.00 Byte)\n",
            "_________________________________________________________________\n"
          ]
        }
      ]
    },
    {
      "cell_type": "code",
      "source": [],
      "metadata": {
        "id": "r7K1E5vHReH2"
      },
      "execution_count": null,
      "outputs": []
    }
  ]
}